{
  "nbformat": 4,
  "nbformat_minor": 0,
  "metadata": {
    "colab": {
      "provenance": [],
      "authorship_tag": "ABX9TyOXVkp3QlSTNrsEduCLzCmU",
      "include_colab_link": true
    },
    "kernelspec": {
      "name": "python3",
      "display_name": "Python 3"
    },
    "language_info": {
      "name": "python"
    }
  },
  "cells": [
    {
      "cell_type": "markdown",
      "metadata": {
        "id": "view-in-github",
        "colab_type": "text"
      },
      "source": [
        "<a href=\"https://colab.research.google.com/github/2303A52261/AIML-2025/blob/main/Copy_of_2303A52261_B_36_Q_8.ipynb\" target=\"_parent\"><img src=\"https://colab.research.google.com/assets/colab-badge.svg\" alt=\"Open In Colab\"/></a>"
      ]
    },
    {
      "cell_type": "markdown",
      "source": [
        "#**HT No-2303A52261**"
      ],
      "metadata": {
        "id": "mKILr8p1OBpV"
      }
    },
    {
      "cell_type": "markdown",
      "source": [
        "#**Batch-36**"
      ],
      "metadata": {
        "id": "7Si-IfCCOLDd"
      }
    },
    {
      "cell_type": "markdown",
      "source": [
        "#**Question-8**"
      ],
      "metadata": {
        "id": "WYzxzCNZOOFF"
      }
    },
    {
      "cell_type": "markdown",
      "source": [
        "Prediction of Student Performance in High School\n",
        "\n",
        "1. Identify the top 5 reasons for low performance of students\n",
        "\n",
        "2. Counts the students with Mother and Father Employed, both employed\n",
        "\n",
        "3. Find the max and min age of students in high school\n",
        "\n",
        "4. Name the medium of instruction was most used in school\n",
        "\n",
        "5. What is the role of extra-curricular activities on student performances.\n",
        "\n",
        "6. Apply either Classification Model or Clustering Model to evaluate the dataset"
      ],
      "metadata": {
        "id": "sDyEljd3Af5a"
      }
    },
    {
      "cell_type": "code",
      "source": [
        "pip install pandas scikit-learn matplotlib seaborn\n"
      ],
      "metadata": {
        "colab": {
          "base_uri": "https://localhost:8080/"
        },
        "id": "kJltpyltHICD",
        "outputId": "a3335d0d-ff39-456b-a6e5-ce4a9a373948"
      },
      "execution_count": null,
      "outputs": [
        {
          "output_type": "stream",
          "name": "stdout",
          "text": [
            "Requirement already satisfied: pandas in /usr/local/lib/python3.10/dist-packages (2.2.2)\n",
            "Requirement already satisfied: scikit-learn in /usr/local/lib/python3.10/dist-packages (1.5.2)\n",
            "Requirement already satisfied: matplotlib in /usr/local/lib/python3.10/dist-packages (3.8.0)\n",
            "Requirement already satisfied: seaborn in /usr/local/lib/python3.10/dist-packages (0.13.2)\n",
            "Requirement already satisfied: numpy>=1.22.4 in /usr/local/lib/python3.10/dist-packages (from pandas) (1.26.4)\n",
            "Requirement already satisfied: python-dateutil>=2.8.2 in /usr/local/lib/python3.10/dist-packages (from pandas) (2.8.2)\n",
            "Requirement already satisfied: pytz>=2020.1 in /usr/local/lib/python3.10/dist-packages (from pandas) (2024.2)\n",
            "Requirement already satisfied: tzdata>=2022.7 in /usr/local/lib/python3.10/dist-packages (from pandas) (2024.2)\n",
            "Requirement already satisfied: scipy>=1.6.0 in /usr/local/lib/python3.10/dist-packages (from scikit-learn) (1.13.1)\n",
            "Requirement already satisfied: joblib>=1.2.0 in /usr/local/lib/python3.10/dist-packages (from scikit-learn) (1.4.2)\n",
            "Requirement already satisfied: threadpoolctl>=3.1.0 in /usr/local/lib/python3.10/dist-packages (from scikit-learn) (3.5.0)\n",
            "Requirement already satisfied: contourpy>=1.0.1 in /usr/local/lib/python3.10/dist-packages (from matplotlib) (1.3.1)\n",
            "Requirement already satisfied: cycler>=0.10 in /usr/local/lib/python3.10/dist-packages (from matplotlib) (0.12.1)\n",
            "Requirement already satisfied: fonttools>=4.22.0 in /usr/local/lib/python3.10/dist-packages (from matplotlib) (4.55.0)\n",
            "Requirement already satisfied: kiwisolver>=1.0.1 in /usr/local/lib/python3.10/dist-packages (from matplotlib) (1.4.7)\n",
            "Requirement already satisfied: packaging>=20.0 in /usr/local/lib/python3.10/dist-packages (from matplotlib) (24.2)\n",
            "Requirement already satisfied: pillow>=6.2.0 in /usr/local/lib/python3.10/dist-packages (from matplotlib) (11.0.0)\n",
            "Requirement already satisfied: pyparsing>=2.3.1 in /usr/local/lib/python3.10/dist-packages (from matplotlib) (3.2.0)\n",
            "Requirement already satisfied: six>=1.5 in /usr/local/lib/python3.10/dist-packages (from python-dateutil>=2.8.2->pandas) (1.16.0)\n"
          ]
        }
      ]
    },
    {
      "cell_type": "code",
      "source": [
        "import pandas as pd\n",
        "\n",
        "# Specify the path to your CSV file\n",
        "csv_file_path = '/content/student-mat.csv'\n",
        "\n",
        "# Read the CSV file into a Pandas DataFrame\n",
        "# Added the encoding parameter to handle potential encoding issues\n",
        "df = pd.read_csv(csv_file_path, encoding='latin-1') # or 'ISO-8859-1', 'cp1252'\n",
        "\n",
        "# Now you can work with the DataFrame 'df'\n",
        "print(df.head())"
      ],
      "metadata": {
        "colab": {
          "base_uri": "https://localhost:8080/"
        },
        "id": "SCQ3bNcjICtZ",
        "outputId": "67702ffa-8892-4bf1-a687-84bf1df54b81"
      },
      "execution_count": null,
      "outputs": [
        {
          "output_type": "stream",
          "name": "stdout",
          "text": [
            "  school;sex;age;address;famsize;Pstatus;Medu;Fedu;Mjob;Fjob;reason;guardian;traveltime;studytime;failures;schoolsup;famsup;paid;activities;nursery;higher;internet;romantic;famrel;freetime;goout;Dalc;Walc;health;absences;G1;G2;G3\n",
            "0  GP;\"F\";18;\"U\";\"GT3\";\"A\";4;4;\"at_home\";\"teacher...                                                                                                                                                                                 \n",
            "1  GP;\"F\";17;\"U\";\"GT3\";\"T\";1;1;\"at_home\";\"other\";...                                                                                                                                                                                 \n",
            "2  GP;\"F\";15;\"U\";\"LE3\";\"T\";1;1;\"at_home\";\"other\";...                                                                                                                                                                                 \n",
            "3  GP;\"F\";15;\"U\";\"GT3\";\"T\";4;2;\"health\";\"services...                                                                                                                                                                                 \n",
            "4  GP;\"F\";16;\"U\";\"GT3\";\"T\";3;3;\"other\";\"other\";\"h...                                                                                                                                                                                 \n"
          ]
        }
      ]
    },
    {
      "cell_type": "markdown",
      "source": [
        "**the top 5 reasons for low performance of students**"
      ],
      "metadata": {
        "id": "CfGIDWEgN8Ub"
      }
    },
    {
      "cell_type": "code",
      "source": [
        "import pandas as pd\n",
        "\n",
        "# Specify the path to your CSV file\n",
        "csv_file_path = '/content/student-mat.csv'\n",
        "\n",
        "# Read the CSV file into a Pandas DataFrame, specifying the delimiter as ';'\n",
        "df = pd.read_csv(csv_file_path, delimiter=';', encoding='latin-1')  # Using semicolon as delimiter\n",
        "\n",
        "# Now you can work with the DataFrame 'df'\n",
        "print(df.head())"
      ],
      "metadata": {
        "colab": {
          "base_uri": "https://localhost:8080/"
        },
        "id": "ZgrzWD_oIZdW",
        "outputId": "422ea7d0-ae88-48ab-e10c-0480f8570e19"
      },
      "execution_count": null,
      "outputs": [
        {
          "output_type": "stream",
          "name": "stdout",
          "text": [
            "  school sex  age address famsize Pstatus  Medu  Fedu     Mjob      Fjob  ...  \\\n",
            "0     GP   F   18       U     GT3       A     4     4  at_home   teacher  ...   \n",
            "1     GP   F   17       U     GT3       T     1     1  at_home     other  ...   \n",
            "2     GP   F   15       U     LE3       T     1     1  at_home     other  ...   \n",
            "3     GP   F   15       U     GT3       T     4     2   health  services  ...   \n",
            "4     GP   F   16       U     GT3       T     3     3    other     other  ...   \n",
            "\n",
            "  famrel freetime  goout  Dalc  Walc health absences  G1  G2  G3  \n",
            "0      4        3      4     1     1      3        6   5   6   6  \n",
            "1      5        3      3     1     1      3        4   5   5   6  \n",
            "2      4        3      2     2     3      3       10   7   8  10  \n",
            "3      3        2      2     1     1      5        2  15  14  15  \n",
            "4      4        3      2     1     2      5        4   6  10  10  \n",
            "\n",
            "[5 rows x 33 columns]\n"
          ]
        }
      ]
    },
    {
      "cell_type": "markdown",
      "source": [
        "**Counts the students with Mother and Father Employed, both employed**"
      ],
      "metadata": {
        "id": "Xtm1KV_ELlRn"
      }
    },
    {
      "cell_type": "code",
      "source": [
        "import pandas as pd\n",
        "\n",
        "# Specify the path to your CSV file\n",
        "csv_file_path = '/content/student-mat.csv'\n",
        "\n",
        "# Read the CSV file into a Pandas DataFrame, specifying the delimiter as ';'\n",
        "df = pd.read_csv(csv_file_path, delimiter=';', encoding='latin-1')  # Using semicolon as delimiter\n",
        "\n",
        "# Check for the actual column name in the DataFrame\n",
        "print(df.columns)\n",
        "\n",
        "# Assuming the actual column names are 'Mjob' and 'Fjob' for mother's and father's jobs, respectively\n",
        "# Modify the condition to use the correct column names\n",
        "both_employed_count = df[(df['Mjob'] == 'at_home') & (df['Fjob'] == 'teacher')].shape[0] # Updated column names\n",
        "print(f\"Number of students with both parents employed: {both_employed_count}\")"
      ],
      "metadata": {
        "colab": {
          "base_uri": "https://localhost:8080/"
        },
        "id": "Y5bPmBd1JLEQ",
        "outputId": "fc0af5ea-bb2c-4bc9-afc8-bc6a0eeedfd7"
      },
      "execution_count": null,
      "outputs": [
        {
          "output_type": "stream",
          "name": "stdout",
          "text": [
            "Index(['school', 'sex', 'age', 'address', 'famsize', 'Pstatus', 'Medu', 'Fedu',\n",
            "       'Mjob', 'Fjob', 'reason', 'guardian', 'traveltime', 'studytime',\n",
            "       'failures', 'schoolsup', 'famsup', 'paid', 'activities', 'nursery',\n",
            "       'higher', 'internet', 'romantic', 'famrel', 'freetime', 'goout', 'Dalc',\n",
            "       'Walc', 'health', 'absences', 'G1', 'G2', 'G3'],\n",
            "      dtype='object')\n",
            "Number of students with both parents employed: 2\n"
          ]
        }
      ]
    },
    {
      "cell_type": "markdown",
      "source": [
        "**max and min age of students in high school**"
      ],
      "metadata": {
        "id": "Tt8AXlV2LgPm"
      }
    },
    {
      "cell_type": "code",
      "source": [
        "max_age = df['age'].max()\n",
        "min_age = df['age'].min()\n",
        "print(f\"Maximum age of students: {max_age}\")\n",
        "print(f\"Minimum age of students: {min_age}\")\n"
      ],
      "metadata": {
        "colab": {
          "base_uri": "https://localhost:8080/"
        },
        "id": "BUmDnuX0JPvA",
        "outputId": "7549d7e7-1266-4373-8e34-c6b2c6a8b220"
      },
      "execution_count": null,
      "outputs": [
        {
          "output_type": "stream",
          "name": "stdout",
          "text": [
            "Maximum age of students: 22\n",
            "Minimum age of students: 15\n"
          ]
        }
      ]
    },
    {
      "cell_type": "markdown",
      "source": [
        "**medium of instruction was most used in school**"
      ],
      "metadata": {
        "id": "kgl5wRRfLYmY"
      }
    },
    {
      "cell_type": "code",
      "source": [
        "# Print the available columns in your DataFrame to identify the correct column name\n",
        "print(df.columns)\n",
        "\n",
        "# Replace 'actual_column_name' with the correct column name you find in the output above\n",
        "# Assuming 'schoolsup' is the column representing medium of instruction,\n",
        "# replace 'actual_column_name' with 'schoolsup'\n",
        "most_common_medium = df['schoolsup'].mode()[0]\n",
        "print(f\"The most common medium of instruction: {most_common_medium}\")"
      ],
      "metadata": {
        "colab": {
          "base_uri": "https://localhost:8080/"
        },
        "id": "9JvgBG-cJx7h",
        "outputId": "0b86894b-58cf-463d-c18f-fa34ae276456"
      },
      "execution_count": null,
      "outputs": [
        {
          "output_type": "stream",
          "name": "stdout",
          "text": [
            "Index(['school', 'sex', 'age', 'address', 'famsize', 'Pstatus', 'Medu', 'Fedu',\n",
            "       'Mjob', 'Fjob', 'reason', 'guardian', 'traveltime', 'studytime',\n",
            "       'failures', 'schoolsup', 'famsup', 'paid', 'activities', 'nursery',\n",
            "       'higher', 'internet', 'romantic', 'famrel', 'freetime', 'goout', 'Dalc',\n",
            "       'Walc', 'health', 'absences', 'G1', 'G2', 'G3'],\n",
            "      dtype='object')\n",
            "The most common medium of instruction: no\n"
          ]
        }
      ]
    },
    {
      "cell_type": "markdown",
      "source": [
        "**role of extra-curricular activities on student performances**"
      ],
      "metadata": {
        "id": "x_o5Rdn0LRD_"
      }
    },
    {
      "cell_type": "code",
      "source": [
        "import seaborn as sns\n",
        "import matplotlib.pyplot as plt\n",
        "import pandas as pd\n",
        "\n",
        "# Print the available columns in your DataFrame to identify the correct column name\n",
        "print(df.columns)\n",
        "\n",
        "# Assuming 'activities' is the column representing Extra Curricular activities,\n",
        "# replace 'Extra_Curricular' with 'activities'\n",
        "sns.boxplot(data=df, x='activities', y='G3')  # Replace 'Extra_Curricular' and 'GPA' with correct column names\n",
        "plt.title('Impact of Extra-Curricular Activities on GPA')\n",
        "plt.show()\n",
        "\n",
        "# Statistical summary\n",
        "print(df.groupby('activities')['G3'].describe())  # Replace 'Extra_Curricular' and 'GPA' with correct column names"
      ],
      "metadata": {
        "colab": {
          "base_uri": "https://localhost:8080/",
          "height": 646
        },
        "id": "Ug6DoJheKDm_",
        "outputId": "60947c62-9d5a-4e8d-d109-e9ac2f877709"
      },
      "execution_count": null,
      "outputs": [
        {
          "output_type": "stream",
          "name": "stdout",
          "text": [
            "Index(['school', 'sex', 'age', 'address', 'famsize', 'Pstatus', 'Medu', 'Fedu',\n",
            "       'Mjob', 'Fjob', 'reason', 'guardian', 'traveltime', 'studytime',\n",
            "       'failures', 'schoolsup', 'famsup', 'paid', 'activities', 'nursery',\n",
            "       'higher', 'internet', 'romantic', 'famrel', 'freetime', 'goout', 'Dalc',\n",
            "       'Walc', 'health', 'absences', 'G1', 'G2', 'G3'],\n",
            "      dtype='object')\n"
          ]
        },
        {
          "output_type": "display_data",
          "data": {
            "text/plain": [
              "<Figure size 640x480 with 1 Axes>"
            ],
            "image/png": "[encoded data removed]"
          },
          "metadata": {}
        },
        {
          "output_type": "stream",
          "name": "stdout",
          "text": [
            "            count       mean       std  min  25%   50%   75%   max\n",
            "activities                                                        \n",
            "no          194.0  10.340206  4.488065  0.0  8.0  11.0  13.0  19.0\n",
            "yes         201.0  10.487562  4.679861  0.0  9.0  11.0  14.0  20.0\n"
          ]
        }
      ]
    },
    {
      "cell_type": "markdown",
      "source": [
        "**Classification Model or Clustering Model **"
      ],
      "metadata": {
        "id": "-eCJuYExLOvl"
      }
    },
    {
      "cell_type": "code",
      "source": [
        "# Create target variable (binary classification: GPA threshold)\n",
        "# Instead of 'GPA', use 'G3' assuming it represents the student's final grade\n",
        "df['Performance'] = df['G3'].apply(lambda x: 1 if x >= 50 else 0)\n",
        "# Select features and target\n",
        "# 'Age' and 'Extra_Curricular' are likely not actual column names\n",
        "# Replace with 'age' and 'activities' (based on previous code snippets)\n",
        "X = df[['age', 'absences', 'activities']]  # Add more relevant features if needed\n",
        "# Convert 'activities' column to numerical representation using one-hot encoding\n",
        "X = pd.get_dummies(X, columns=['activities'], prefix=['activities']) # This line is added\n",
        "y = df['Performance']\n",
        "\n",
        "\n",
        "# Split data\n",
        "from sklearn.model_selection import train_test_split # This line is added\n",
        "X_train, X_test, y_train, y_test = train_test_split(X, y, test_size=0.2, random_state=42)\n",
        "\n",
        "# Train Random Forest Classifier\n",
        "from sklearn.ensemble import RandomForestClassifier # This line is added\n",
        "from sklearn.metrics import classification_report # This line is added\n",
        "model = RandomForestClassifier(n_estimators=100, random_state=42)\n",
        "model.fit(X_train, y_train)\n",
        "\n",
        "# Evaluate the model\n",
        "y_pred = model.predict(X_test)\n",
        "print(\"Classification Report:\")\n",
        "print(classification_report(y_test, y_pred))"
      ],
      "metadata": {
        "colab": {
          "base_uri": "https://localhost:8080/"
        },
        "id": "ZGeBBLvpKixn",
        "outputId": "ca6c5e93-593a-4dec-83f8-b70e9307e5f0"
      },
      "execution_count": null,
      "outputs": [
        {
          "output_type": "stream",
          "name": "stdout",
          "text": [
            "Classification Report:\n",
            "              precision    recall  f1-score   support\n",
            "\n",
            "           0       1.00      1.00      1.00        79\n",
            "\n",
            "    accuracy                           1.00        79\n",
            "   macro avg       1.00      1.00      1.00        79\n",
            "weighted avg       1.00      1.00      1.00        79\n",
            "\n"
          ]
        }
      ]
    }
  ]
}